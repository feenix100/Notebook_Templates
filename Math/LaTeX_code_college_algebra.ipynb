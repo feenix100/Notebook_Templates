{
 "cells": [
  {
   "cell_type": "markdown",
   "metadata": {},
   "source": [
    "# LaTeX Code Examples in Markdown Cells\n",
    "\n",
    "This notebook is designed with LaTeX Code examples for displaying mathematical problems in college algebra using markdown cells."
   ]
  },
  {
   "cell_type": "markdown",
   "metadata": {},
   "source": [
    "## 1. Basic Algebraic Operations\n",
    "\n",
    "Perform basic algebraic operations such as addition, subtraction, multiplication, and division of algebraic expressions."
   ]
  },
  {
   "cell_type": "markdown",
   "metadata": {},
   "source": [
    "### LaTeX Examples:\n",
    "\n",
    "- **Addition**: $a + b$\n",
    "- **Subtraction**: $a - b$\n",
    "- **Multiplication**: $a \\times b$ or $a \\cdot b$\n",
    "- **Division**: $\\frac{a}{b}$\n",
    "- **Exponentiation**: $a^b$\n",
    "- **Square Root**: $\\sqrt{a}$\n",
    "- **Fraction**: $\\frac{a}{b}$\n",
    "- **Parentheses**: $(a + b)$"
   ]
  },
  {
   "cell_type": "markdown",
   "metadata": {},
   "source": [
    "### Example: Simplify an Expression\n",
    "\n",
    "Simplify the following expression: $(2x + 3) - (x - 5)$"
   ]
  },
  {
   "cell_type": "markdown",
   "metadata": {},
   "source": [
    "#### Solution:\n",
    "\n",
    "To simplify, distribute the negative sign and combine like terms:\n",
    "$$(2x + 3) - (x - 5) = 2x + 3 - x + 5 = x + 8$$"
   ]
  },
  {
   "cell_type": "markdown",
   "metadata": {},
   "source": [
    "## 2. Solving Equations and Inequalities\n",
    "\n",
    "Solve linear, quadratic, and higher-order equations, as well as inequalities."
   ]
  },
  {
   "cell_type": "markdown",
   "metadata": {},
   "source": [
    "### LaTeX Examples:\n",
    "\n",
    "- **Linear Equation**: $ax + b = c$\n",
    "- **Quadratic Equation**: $ax^2 + bx + c = 0$\n",
    "- **Inequality**: $x > 5$ or $x \\leq 10$\n",
    "- **Quadratic Formula**: $x = \\frac{-b \\pm \\sqrt{b^2 - 4ac}}{2a}$"
   ]
  },
  {
   "cell_type": "markdown",
   "metadata": {},
   "source": [
    "### Example: Solve a Quadratic Equation\n",
    "\n",
    "Solve the equation: $x^2 - 4x + 3 = 0$"
   ]
  },
  {
   "cell_type": "markdown",
   "metadata": {},
   "source": [
    "#### Solution:\n",
    "\n",
    "Factor the quadratic equation:\n",
    "$$x^2 - 4x + 3 = (x - 1)(x - 3) = 0$$\n",
    "Set each factor to zero:\n",
    "$$x - 1 = 0 \\quad \\text{or} \\quad x - 3 = 0$$\n",
    "Thus, $x = 1$ or $x = 3$."
   ]
  },
  {
   "cell_type": "markdown",
   "metadata": {},
   "source": [
    "## 3. Functions and Their Properties\n",
    "\n",
    "Explore functions, their domains, ranges, and key properties."
   ]
  },
  {
   "cell_type": "markdown",
   "metadata": {},
   "source": [
    "### LaTeX Examples:\n",
    "\n",
    "- **Function Notation**: $f(x) = x^2 + 3x + 2$\n",
    "- **Domain and Range**: For $f(x) = \\frac{1}{x}$, Domain: $x \\neq 0$, Range: $y \\neq 0$\n",
    "- **Function Properties**: $f(0)$, $f'(x)$, $f''(x)$"
   ]
  },
  {
   "cell_type": "markdown",
   "metadata": {},
   "source": [
    "### Example: Define a Function and Find Its Domain\n",
    "\n",
    "Define the function $f(x) = x^2 + 3x + 2$ and find its domain."
   ]
  },
  {
   "cell_type": "markdown",
   "metadata": {},
   "source": [
    "#### Solution:\n",
    "\n",
    "The domain of a polynomial function is all real numbers: $\\mathbb{R}$."
   ]
  },
  {
   "cell_type": "markdown",
   "metadata": {},
   "source": [
    "## 4. Polynomial and Rational Functions\n",
    "\n",
    "Work with polynomial and rational functions, including their graphs and asymptotes."
   ]
  },
  {
   "cell_type": "markdown",
   "metadata": {},
   "source": [
    "### LaTeX Examples:\n",
    "\n",
    "- **Polynomial Function**: $p(x) = 3x^3 - 2x^2 + x - 1$\n",
    "- **Rational Function**: $r(x) = \\frac{x^2 - 1}{x + 1}$\n",
    "- **Asymptote**: $y = \\frac{1}{x}$ has a horizontal asymptote at $y = 0$"
   ]
  },
  {
   "cell_type": "markdown",
   "metadata": {},
   "source": [
    "### Example: Find the Roots of a Polynomial\n",
    "\n",
    "Find the roots of the polynomial $x^3 - 6x^2 + 11x - 6$."
   ]
  },
  {
   "cell_type": "markdown",
   "metadata": {},
   "source": [
    "#### Solution:\n",
    "\n",
    "Factor the polynomial:\n",
    "$$x^3 - 6x^2 + 11x - 6 = (x - 1)(x - 2)(x - 3)$$\n",
    "Set each factor to zero:\n",
    "$$x - 1 = 0 \\quad \\text{or} \\quad x - 2 = 0 \\quad \\text{or} \\quad x - 3 = 0$$\n",
    "Thus, the roots are $x = 1$, $x = 2$, and $x = 3$."
   ]
  },
  {
   "cell_type": "markdown",
   "metadata": {},
   "source": [
    "## 5. Exponential and Logarithmic Functions\n",
    "\n",
    "Study exponential and logarithmic functions and their applications."
   ]
  },
  {
   "cell_type": "markdown",
   "metadata": {},
   "source": [
    "### LaTeX Examples:\n",
    "\n",
    "- **Exponential Function**: $f(x) = a \\cdot b^x$\n",
    "- **Logarithmic Function**: $f(x) = \\log_b(x)$ or $f(x) = \\ln(x)$\n",
    "- **Exponential Growth/Decay**: $y = y_0 e^{kt}$"
   ]
  },
  {
   "cell_type": "markdown",
   "metadata": {},
   "source": [
    "### Example: Solve an Exponential Equation\n",
    "\n",
    "Solve the equation $e^x = 5$."
   ]
  },
  {
   "cell_type": "markdown",
   "metadata": {},
   "source": [
    "#### Solution:\n",
    "\n",
    "Take the natural logarithm of both sides:\n",
    "$$\\ln(e^x) = \\ln(5)$$\n",
    "Use the property $\\ln(e^x) = x$:\n",
    "$$x = \\ln(5)$$"
   ]
  },
  {
   "cell_type": "markdown",
   "metadata": {},
   "source": [
    "## 6. Systems of Equations and Matrices\n",
    "\n",
    "Solve systems of linear equations using various methods, including matrix operations."
   ]
  },
  {
   "cell_type": "markdown",
   "metadata": {},
   "source": [
    "### LaTeX Examples:\n",
    "\n",
    "- **System of Equations**: \\[\n",
    "\\begin{cases} \n",
    "x + 2y = 5 \\\\ \n",
    "3x + 4y = 6 \n",
    "\\end{cases}\n",
    "\\]\n",
    "- **Augmented Matrix**:\n",
    "$$\n",
    "\\begin{bmatrix}\n",
    "1 & 2 & | & 5 \\\\\n",
    "3 & 4 & | & 6\n",
    "\\end{bmatrix}\n",
    "$$\n",
    "- **Matrix Multiplication**: $AB = C$"
   ]
  },
  {
   "cell_type": "markdown",
   "metadata": {},
   "source": [
    "### Example: Solve a System of Equations Using Matrices\n",
    "\n",
    "Solve the system of equations:\n",
    "\\[\n",
    "\\begin{cases} \n",
    "x + 2y = 5 \\\\ \n",
    "3x + 4y = 6 \n",
    "\\end{cases}\n",
    "\\]"
   ]
  },
  {
   "cell_type": "markdown",
   "metadata": {},
   "source": [
    "#### Solution:\n",
    "\n",
    "Represent the system as an augmented matrix:\n",
    "$$\n",
    "\\begin{bmatrix}\n",
    "1 & 2 & | & 5 \\\\\n",
    "3 & 4 & | & 6\n",
    "\\end{bmatrix}\n",
    "$$\n",
    "Use row reduction to find:\n",
    "$$x = -4$$\n",
    "$$y = 2.5$$"
   ]
  },
  {
   "cell_type": "markdown",
   "metadata": {},
   "source": [
    "## 7. Sequences, Series, and Probability\n",
    "\n",
    "Explore sequences, series, and basic probability concepts."
   ]
  },
  {
   "cell_type": "markdown",
   "metadata": {},
   "source": [
    "### LaTeX Examples:\n",
    "\n",
    "- **Arithmetic Sequence**: $a_n = a_1 + (n-1)d$\n",
    "- **Geometric Sequence**: $a_n = a_1 r^{n-1}$\n",
    "- **Sum of Series**: $S_n = \\frac{n}{2} (a_1 + a_n)$\n",
    "- **Probability**: $P(A) = \\frac{\\text{Number of favorable outcomes}}{\\text{Total number of outcomes}}$"
   ]
  },
  {
   "cell_type": "markdown",
   "metadata": {},
   "source": [
    "### Example: Find the Sum of an Arithmetic Series\n",
    "\n",
    "Find the sum of the first $n$ terms of the arithmetic series with first term $a_1 = 1$ and common difference $d = 2$."
   ]
  },
  {
   "cell_type": "markdown",
   "metadata": {},
   "source": [
    "#### Solution:\n",
    "\n",
    "Use the formula for the sum of an arithmetic series:\n",
    "$$S_n = \\frac{n}{2} (2a_1 + (n-1)d)$$\n",
    "where $a_1 = 1$, $d = 2$:\n",
    "$$S_n = \\frac{n}{2} (2 \\cdot 1 + (n-1) \\cdot 2) = \\frac{n}{2} (2 + 2n - 2) = n^2$$"
   ]
  },
  {
   "cell_type": "markdown",
   "metadata": {},
   "source": [
    "## 8. Slope of a Line\n",
    "\n",
    "Understand and calculate the slope of a line."
   ]
  },
  {
   "cell_type": "markdown",
   "metadata": {},
   "source": [
    "### LaTeX Examples:\n",
    "\n",
    "- **Slope Formula**: $m = \\frac{y_2 - y_1}{x_2 - x_1}$\n",
    "- **Point-Slope Form**: $y - y_1 = m(x - x_1)$\n",
    "- **Slope-Intercept Form**: $y = mx + b$"
   ]
  },
  {
   "cell_type": "markdown",
   "metadata": {},
   "source": [
    "### Example: Find the Slope of a Line\n",
    "\n",
    "Find the slope of the line passing through the points $(1, 2)$ and $(3, 6)$."
   ]
  },
  {
   "cell_type": "markdown",
   "metadata": {},
   "source": [
    "#### Solution:\n",
    "\n",
    "Use the slope formula:\n",
    "$$m = \\frac{y_2 - y_1}{x_2 - x_1} = \\frac{6 - 2}{3 - 1} = \\frac{4}{2} = 2$$\n",
    "Thus, the slope of the line is $m = 2$."
   ]
  },
  {
   "cell_type": "markdown",
   "metadata": {},
   "source": [
    "## 9. Graphing Algebraic Equations\n",
    "\n",
    "Learn how to graph different types of algebraic equations."
   ]
  },
  {
   "cell_type": "markdown",
   "metadata": {},
   "source": [
    "### LaTeX Examples:\n",
    "\n",
    "- **Linear Equation**: $y = mx + b$\n",
    "- **Quadratic Equation**: $y = ax^2 + bx + c$\n",
    "- **Circle Equation**: $(x - h)^2 + (y - k)^2 = r^2$\n",
    "- **Ellipse Equation**: $\\frac{(x - h)^2}{a^2} + \\frac{(y - k)^2}{b^2} = 1$\n",
    "- **Hyperbola Equation**: $\\frac{(x - h)^2}{a^2} - \\frac{(y - k)^2}{b^2} = 1$"
   ]
  },
  {
   "cell_type": "markdown",
   "metadata": {},
   "source": [
    "### Example: Graph a Linear Equation\n",
    "\n",
    "Graph the linear equation $y = 2x + 3$."
   ]
  },
  {
   "cell_type": "markdown",
   "metadata": {},
   "source": [
    "#### Solution:\n",
    "\n",
    "Plot the y-intercept $(0, 3)$ and use the slope $m = 2$ to find another point. For example, from $(0, 3)$, go up 2 units and right 1 unit to reach $(1, 5)$. Draw a line through these points.\n",
    "\n",
    "Below is a code example to graph this equation using Matplotlib."
   ]
  },
  {
   "cell_type": "code",
   "execution_count": null,
   "metadata": {},
   "outputs": [],
   "source": [
    "\n",
    "import matplotlib.pyplot as plt\n",
    "\n",
    "# Define the linear equation y = 2x + 3\n",
    "def linear_eq(x):\n",
    "    return 2 * x + 3\n",
    "\n",
    "# Generate x values\n",
    "x_values = [i for i in range(-10, 11)]\n",
    "y_values = [linear_eq(x) for x in x_values]\n",
    "\n",
    "# Plot the graph\n",
    "plt.figure(figsize=(8, 6))\n",
    "plt.plot(x_values, y_values, label='$y = 2x + 3$')\n",
    "plt.scatter([0, 1], [3, 5], color='red') # Plot the points (0, 3) and (1, 5)\n",
    "plt.text(0, 3, '(0, 3)', fontsize=12, ha='right')\n",
    "plt.text(1, 5, '(1, 5)', fontsize=12, ha='left')\n",
    "plt.xlabel('x')\n",
    "plt.ylabel('y')\n",
    "plt.axhline(0, color='black',linewidth=0.5)\n",
    "plt.axvline(0, color='black',linewidth=0.5)\n",
    "plt.grid(color = 'gray', linestyle = '--', linewidth = 0.5)\n",
    "plt.legend()\n",
    "plt.title('Graph of the Linear Equation $y = 2x + 3$')\n",
    "plt.show()"
   ]
  },
  {
   "cell_type": "markdown",
   "metadata": {},
   "source": [
    "## 10. Additional Topics\n",
    "\n",
    "Include any additional topics that are relevant to college algebra."
   ]
  },
  {
   "cell_type": "markdown",
   "metadata": {},
   "source": [
    "### LaTeX Examples:\n",
    "\n",
    "Add LaTeX examples for any additional topics here."
   ]
  },
  {
   "cell_type": "markdown",
   "metadata": {},
   "source": [
    "### Example: Additional Topic\n",
    "\n",
    "Include an example problem and solution for any additional topic here."
   ]
  },
  {
   "cell_type": "markdown",
   "metadata": {},
   "source": [
    "#### Solution:\n",
    "\n",
    "Provide the solution for the example problem here."
   ]
  }
 ],
 "metadata": {
  "kernelspec": {
   "display_name": "Python 3",
   "language": "python",
   "name": "python3"
  },
  "language_info": {
   "codemirror_mode": {
    "name": "ipython",
    "version": 3
   },
   "file_extension": ".py",
   "mimetype": "text/x-python",
   "name": "python",
   "nbconvert_exporter": "python",
   "pygments_lexer": "ipython3",
   "version": "3.12.3"
  }
 },
 "nbformat": 4,
 "nbformat_minor": 4
}
